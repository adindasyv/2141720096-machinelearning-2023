{
  "cells": [
    {
      "cell_type": "markdown",
      "metadata": {
        "id": "view-in-github",
        "colab_type": "text"
      },
      "source": [
        "<a href=\"https://colab.research.google.com/github/adindasyv/2141720096-machinelearning-2023/blob/master/Week%2011/praktikum1.ipynb\" target=\"_parent\"><img src=\"https://colab.research.google.com/assets/colab-badge.svg\" alt=\"Open In Colab\"/></a>"
      ]
    },
    {
      "cell_type": "markdown",
      "metadata": {
        "id": "FClilAHVf0Cs"
      },
      "source": [
        "# Praktikum 1 : Klasifikasi Kucing dan Anjing"
      ]
    },
    {
      "cell_type": "code",
      "execution_count": null,
      "metadata": {
        "colab": {
          "base_uri": "https://localhost:8080/"
        },
        "id": "HJKPd7U6gzh2",
        "outputId": "20c3b9ee-bb30-4a29-ed0c-6ffbfb8cca69"
      },
      "outputs": [
        {
          "output_type": "stream",
          "name": "stdout",
          "text": [
            "Drive already mounted at /content/drive; to attempt to forcibly remount, call drive.mount(\"/content/drive\", force_remount=True).\n"
          ]
        }
      ],
      "source": [
        "from google.colab import drive\n",
        "drive.mount('/content/drive')"
      ]
    },
    {
      "cell_type": "markdown",
      "metadata": {
        "id": "vxyd5jaYgXA1"
      },
      "source": [
        "### Langkah 1 - Import Library"
      ]
    },
    {
      "cell_type": "code",
      "execution_count": 46,
      "metadata": {
        "id": "WtVVNm7nx6Yy"
      },
      "outputs": [],
      "source": [
        "import tensorflow as tf\n",
        "from keras.preprocessing.image import ImageDataGenerator"
      ]
    },
    {
      "cell_type": "markdown",
      "metadata": {
        "id": "VIDQK7JUgd3c"
      },
      "source": [
        "### Langkah 2 - Pra Pengolahan Data"
      ]
    },
    {
      "cell_type": "markdown",
      "metadata": {
        "id": "wv9m8w5CghXx"
      },
      "source": [
        "* Langkah 2.1. Pra Pengolahan Data Training\n",
        "\n"
      ]
    },
    {
      "cell_type": "code",
      "execution_count": 47,
      "metadata": {
        "colab": {
          "base_uri": "https://localhost:8080/"
        },
        "id": "wLFwSa8fgbQn",
        "outputId": "86198dd5-a1de-4ee5-e9e1-54e5e89c3d14"
      },
      "outputs": [
        {
          "output_type": "stream",
          "name": "stdout",
          "text": [
            "Found 8010 images belonging to 2 classes.\n"
          ]
        }
      ],
      "source": [
        "train_datagen = ImageDataGenerator(rescale = 1./255,\n",
        "                                   shear_range = 0.2,\n",
        "                                   zoom_range = 0.2,\n",
        "                                   horizontal_flip = True)\n",
        "training_set = train_datagen.flow_from_directory('/content/drive/MyDrive/Colab Notebooks/dataset/training_set',\n",
        "                                                 target_size = (64, 64),\n",
        "                                                 batch_size = 32,\n",
        "                                                 class_mode = 'binary')"
      ]
    },
    {
      "cell_type": "markdown",
      "metadata": {
        "id": "pfAnjkjVhWgE"
      },
      "source": [
        "* Langkah 2.2. Pra Pengolahan Data Testing"
      ]
    },
    {
      "cell_type": "code",
      "execution_count": 48,
      "metadata": {
        "colab": {
          "base_uri": "https://localhost:8080/"
        },
        "id": "d5KWBKtShO57",
        "outputId": "b174ddaf-0de5-421a-ffad-9d10a79068c6"
      },
      "outputs": [
        {
          "output_type": "stream",
          "name": "stdout",
          "text": [
            "Found 2000 images belonging to 2 classes.\n"
          ]
        }
      ],
      "source": [
        "test_datagen = ImageDataGenerator(rescale = 1./255)\n",
        "test_set = test_datagen.flow_from_directory('/content/drive/MyDrive/Colab Notebooks/dataset/test_set',\n",
        "                                            target_size = (64, 64),\n",
        "                                            batch_size = 32,\n",
        "                                            class_mode = 'binary')"
      ]
    },
    {
      "cell_type": "markdown",
      "metadata": {
        "id": "A0AzTUEGh6yF"
      },
      "source": [
        "### Langkah 3 - Pembuatan Model CNN"
      ]
    },
    {
      "cell_type": "markdown",
      "metadata": {
        "id": "_ToXCLIJh98q"
      },
      "source": [
        "* Langkah 3.1. Inisiasi Model CNN"
      ]
    },
    {
      "cell_type": "code",
      "execution_count": 49,
      "metadata": {
        "id": "UwDC7DMlhiMo"
      },
      "outputs": [],
      "source": [
        "cnn = tf.keras.models.Sequential()"
      ]
    },
    {
      "cell_type": "markdown",
      "metadata": {
        "id": "OF7XNtgSjTmI"
      },
      "source": [
        "* Langkah 3.2. Pembuatan Layer"
      ]
    },
    {
      "cell_type": "code",
      "execution_count": 50,
      "metadata": {
        "id": "z56iPJlCi_hi"
      },
      "outputs": [],
      "source": [
        "cnn.add(tf.keras.layers.Conv2D(filters=32, kernel_size=3, activation='relu', input_shape=[64, 64, 3]))"
      ]
    },
    {
      "cell_type": "markdown",
      "metadata": {
        "id": "wI2D1q7OkBuo"
      },
      "source": [
        "* Langkah 3.3. Pembuatan Layer Pooling 1"
      ]
    },
    {
      "cell_type": "code",
      "execution_count": 51,
      "metadata": {
        "id": "EXGnAtzwj_rb"
      },
      "outputs": [],
      "source": [
        "cnn.add(tf.keras.layers.MaxPool2D(pool_size=2, strides=2))"
      ]
    },
    {
      "cell_type": "markdown",
      "source": [
        "* Langkah 3.4 Pembuatan Layer Konvolusi 2 dan Pooling 2"
      ],
      "metadata": {
        "id": "42apT-UBycnQ"
      }
    },
    {
      "cell_type": "code",
      "source": [
        "cnn.add(tf.keras.layers.Conv2D(filters=32, kernel_size=3, activation='relu'))\n",
        "cnn.add(tf.keras.layers.MaxPool2D(pool_size=2, strides=2))"
      ],
      "metadata": {
        "id": "O3wzQ0ErybWC"
      },
      "execution_count": 52,
      "outputs": []
    },
    {
      "cell_type": "markdown",
      "metadata": {
        "id": "bDs2qB4NkI0R"
      },
      "source": [
        "* Langkah 3.5. Flattening"
      ]
    },
    {
      "cell_type": "code",
      "execution_count": 53,
      "metadata": {
        "id": "mCUEjfG8kHzW"
      },
      "outputs": [],
      "source": [
        "cnn.add(tf.keras.layers.Flatten())"
      ]
    },
    {
      "cell_type": "markdown",
      "metadata": {
        "id": "hDTnyumHkf1W"
      },
      "source": [
        "* Langkah 3.6 Fully Connected Layer 1 (Input)"
      ]
    },
    {
      "cell_type": "code",
      "execution_count": 54,
      "metadata": {
        "id": "L13USK5-kP0E"
      },
      "outputs": [],
      "source": [
        "cnn.add(tf.keras.layers.Dense(units=128, activation='relu'))"
      ]
    },
    {
      "cell_type": "markdown",
      "source": [
        "* Langkah 3.7 Fully Connected 2 Layer (Output)"
      ],
      "metadata": {
        "id": "sMmBy6oSyFgj"
      }
    },
    {
      "cell_type": "code",
      "source": [
        "cnn.add(tf.keras.layers.Dense(units=1, activation='sigmoid'))"
      ],
      "metadata": {
        "id": "62qdmoQnyBvG"
      },
      "execution_count": 55,
      "outputs": []
    },
    {
      "cell_type": "markdown",
      "metadata": {
        "id": "VyKYCFSmk5id"
      },
      "source": [
        "* Langkah 3.8 Compile Model CNN"
      ]
    },
    {
      "cell_type": "code",
      "execution_count": 56,
      "metadata": {
        "id": "TO2Lv8WRkpfM"
      },
      "outputs": [],
      "source": [
        "cnn.compile(optimizer = 'adam', loss = 'binary_crossentropy', metrics = ['accuracy'])"
      ]
    },
    {
      "cell_type": "markdown",
      "metadata": {
        "id": "oayS4SBklCb_"
      },
      "source": [
        "Penggunaan loss function binary crossentropy dikarenakan kita hanya melakukan klasifikasi pada dua kelas, yaitu kucing dan anjing."
      ]
    },
    {
      "cell_type": "markdown",
      "metadata": {
        "id": "ikRCkg9llCVV"
      },
      "source": [
        "### Langkah 4 - Fit CNN"
      ]
    },
    {
      "cell_type": "code",
      "execution_count": 57,
      "metadata": {
        "colab": {
          "base_uri": "https://localhost:8080/"
        },
        "id": "rINA5zH5lBGn",
        "outputId": "b591ca4a-1ce1-4ec4-b11d-add7368d4d7f"
      },
      "outputs": [
        {
          "output_type": "stream",
          "name": "stdout",
          "text": [
            "Epoch 1/25\n",
            "251/251 [==============================] - 44s 162ms/step - loss: 0.6711 - accuracy: 0.5848 - val_loss: 0.6356 - val_accuracy: 0.6455\n",
            "Epoch 2/25\n",
            "251/251 [==============================] - 38s 153ms/step - loss: 0.6250 - accuracy: 0.6576 - val_loss: 0.5903 - val_accuracy: 0.7010\n",
            "Epoch 3/25\n",
            "251/251 [==============================] - 39s 153ms/step - loss: 0.5793 - accuracy: 0.6950 - val_loss: 0.5571 - val_accuracy: 0.7290\n",
            "Epoch 4/25\n",
            "251/251 [==============================] - 38s 153ms/step - loss: 0.5478 - accuracy: 0.7170 - val_loss: 0.5244 - val_accuracy: 0.7470\n",
            "Epoch 5/25\n",
            "251/251 [==============================] - 39s 156ms/step - loss: 0.5178 - accuracy: 0.7411 - val_loss: 0.5173 - val_accuracy: 0.7425\n",
            "Epoch 6/25\n",
            "251/251 [==============================] - 39s 154ms/step - loss: 0.4931 - accuracy: 0.7610 - val_loss: 0.4982 - val_accuracy: 0.7620\n",
            "Epoch 7/25\n",
            "251/251 [==============================] - 38s 153ms/step - loss: 0.4786 - accuracy: 0.7658 - val_loss: 0.5115 - val_accuracy: 0.7605\n",
            "Epoch 8/25\n",
            "251/251 [==============================] - 44s 173ms/step - loss: 0.4595 - accuracy: 0.7783 - val_loss: 0.4969 - val_accuracy: 0.7695\n",
            "Epoch 9/25\n",
            "251/251 [==============================] - 38s 153ms/step - loss: 0.4543 - accuracy: 0.7823 - val_loss: 0.5102 - val_accuracy: 0.7655\n",
            "Epoch 10/25\n",
            "251/251 [==============================] - 44s 174ms/step - loss: 0.4294 - accuracy: 0.7970 - val_loss: 0.5062 - val_accuracy: 0.7650\n",
            "Epoch 11/25\n",
            "251/251 [==============================] - 39s 154ms/step - loss: 0.4106 - accuracy: 0.8087 - val_loss: 0.4923 - val_accuracy: 0.7775\n",
            "Epoch 12/25\n",
            "251/251 [==============================] - 39s 157ms/step - loss: 0.3989 - accuracy: 0.8172 - val_loss: 0.4832 - val_accuracy: 0.7855\n",
            "Epoch 13/25\n",
            "251/251 [==============================] - 39s 157ms/step - loss: 0.3884 - accuracy: 0.8236 - val_loss: 0.4951 - val_accuracy: 0.7780\n",
            "Epoch 14/25\n",
            "251/251 [==============================] - 39s 155ms/step - loss: 0.3706 - accuracy: 0.8346 - val_loss: 0.5047 - val_accuracy: 0.7860\n",
            "Epoch 15/25\n",
            "251/251 [==============================] - 44s 174ms/step - loss: 0.3539 - accuracy: 0.8431 - val_loss: 0.5079 - val_accuracy: 0.7815\n",
            "Epoch 16/25\n",
            "251/251 [==============================] - 38s 153ms/step - loss: 0.3316 - accuracy: 0.8539 - val_loss: 0.5621 - val_accuracy: 0.7720\n",
            "Epoch 17/25\n",
            "251/251 [==============================] - 44s 175ms/step - loss: 0.3251 - accuracy: 0.8584 - val_loss: 0.5022 - val_accuracy: 0.7865\n",
            "Epoch 18/25\n",
            "251/251 [==============================] - 38s 153ms/step - loss: 0.3091 - accuracy: 0.8725 - val_loss: 0.5119 - val_accuracy: 0.7835\n",
            "Epoch 19/25\n",
            "251/251 [==============================] - 44s 175ms/step - loss: 0.3017 - accuracy: 0.8707 - val_loss: 0.5052 - val_accuracy: 0.7945\n",
            "Epoch 20/25\n",
            "251/251 [==============================] - 38s 153ms/step - loss: 0.2761 - accuracy: 0.8844 - val_loss: 0.5491 - val_accuracy: 0.7805\n",
            "Epoch 21/25\n",
            "251/251 [==============================] - 44s 174ms/step - loss: 0.2677 - accuracy: 0.8891 - val_loss: 0.5061 - val_accuracy: 0.8005\n",
            "Epoch 22/25\n",
            "251/251 [==============================] - 39s 155ms/step - loss: 0.2499 - accuracy: 0.8964 - val_loss: 0.5587 - val_accuracy: 0.7745\n",
            "Epoch 23/25\n",
            "251/251 [==============================] - 44s 176ms/step - loss: 0.2350 - accuracy: 0.8999 - val_loss: 0.5810 - val_accuracy: 0.7825\n",
            "Epoch 24/25\n",
            "251/251 [==============================] - 39s 154ms/step - loss: 0.2297 - accuracy: 0.9059 - val_loss: 0.5500 - val_accuracy: 0.7910\n",
            "Epoch 25/25\n",
            "251/251 [==============================] - 39s 156ms/step - loss: 0.2164 - accuracy: 0.9155 - val_loss: 0.5457 - val_accuracy: 0.7980\n"
          ]
        },
        {
          "output_type": "execute_result",
          "data": {
            "text/plain": [
              "<keras.src.callbacks.History at 0x7a50b56e2c50>"
            ]
          },
          "metadata": {},
          "execution_count": 57
        }
      ],
      "source": [
        "cnn.fit(x = training_set, validation_data = test_set, epochs = 25)"
      ]
    },
    {
      "cell_type": "code",
      "execution_count": 58,
      "metadata": {
        "id": "O4kPy58alJv6",
        "colab": {
          "base_uri": "https://localhost:8080/"
        },
        "outputId": "31066249-9ed1-46e3-810a-44b7505199ab"
      },
      "outputs": [
        {
          "output_type": "stream",
          "name": "stdout",
          "text": [
            "1/1 [==============================] - 0s 100ms/step\n",
            "dog\n"
          ]
        }
      ],
      "source": [
        "import numpy as np\n",
        "from keras.preprocessing import image\n",
        "test_image = image.load_img('/content/drive/MyDrive/Colab Notebooks/dataset/single_prediction/cat_or_dog_1.jpg', target_size = (64, 64))\n",
        "test_image = image.img_to_array(test_image)\n",
        "test_image = np.expand_dims(test_image, axis = 0)\n",
        "result = cnn.predict(test_image)\n",
        "training_set.class_indices\n",
        "if result[0][0] == 1:\n",
        "  prediction = 'dog'\n",
        "else:\n",
        "  prediction = 'cat'\n",
        "print(prediction)"
      ]
    }
  ],
  "metadata": {
    "accelerator": "GPU",
    "colab": {
      "provenance": [],
      "gpuType": "T4",
      "mount_file_id": "1Jqp2UrHSHqhcl91T6uko1_CSz19ST8Sf",
      "authorship_tag": "ABX9TyP/Lduf7FjxLd28ERBIxKr8",
      "include_colab_link": true
    },
    "kernelspec": {
      "display_name": "Python 3",
      "name": "python3"
    },
    "language_info": {
      "name": "python"
    }
  },
  "nbformat": 4,
  "nbformat_minor": 0
}