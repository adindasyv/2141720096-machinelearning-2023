{
  "nbformat": 4,
  "nbformat_minor": 0,
  "metadata": {
    "colab": {
      "provenance": [],
      "authorship_tag": "ABX9TyOWSPd9QTP5cu/12BkzxJaC",
      "include_colab_link": true
    },
    "kernelspec": {
      "name": "python3",
      "display_name": "Python 3"
    },
    "language_info": {
      "name": "python"
    }
  },
  "cells": [
    {
      "cell_type": "markdown",
      "metadata": {
        "id": "view-in-github",
        "colab_type": "text"
      },
      "source": [
        "<a href=\"https://colab.research.google.com/github/adindasyv/2141720096-machinelearning-2023/blob/master/Week%209/tugas.ipynb\" target=\"_parent\"><img src=\"https://colab.research.google.com/assets/colab-badge.svg\" alt=\"Open In Colab\"/></a>"
      ]
    },
    {
      "cell_type": "markdown",
      "source": [
        "## TUGAS PRAKTIKUM\n",
        "1. Lakukan klasifikasi pada data MNIST dengan menggunakan model ANN\n",
        "2. Anda diperbolehkan melakukan eksplorasi terhadap,\n",
        "- Metode pra pengolahan\n",
        "- Pemilihan fitur\n",
        "- Arsitektur ANN\n",
        "- Fungsi Aktiviasi\n",
        "3. ANN diimplementasikan dengan menggunakan tensowflow\n",
        "4. DIKERJAKAN SECARA BERKELOMPOK\n",
        "5. JELASKAN HASIL YANG ANDA DAPATKAN.\n",
        "- AKURASI\n",
        "- CONFUSION MATRIX\n",
        "- KONFIGURASI MODEL --> MULAI DARI PRA PENGOLAHAN SAMPAI ARSITEKTUR ANN"
      ],
      "metadata": {
        "id": "QnBbhC8bqy3K"
      }
    },
    {
      "cell_type": "markdown",
      "source": [
        "### Langkah 1 - Impor Library\n"
      ],
      "metadata": {
        "id": "FwuPIlLRrVLJ"
      }
    },
    {
      "cell_type": "code",
      "execution_count": 2,
      "metadata": {
        "id": "0FYKj3ggnPPH"
      },
      "outputs": [],
      "source": [
        "import tensorflow as tf\n",
        "import numpy as np\n",
        "import seaborn as sns\n",
        "import matplotlib.pyplot as plt\n",
        "from sklearn import datasets\n",
        "from sklearn.preprocessing import MinMaxScaler\n",
        "from sklearn.decomposition import PCA\n",
        "from sklearn.model_selection import train_test_split\n",
        "from tensorflow.keras.models import Sequential\n",
        "from tensorflow.keras.layers import Dense\n",
        "from sklearn.metrics import confusion_matrix\n",
        "from sklearn.metrics import confusion_matrix, accuracy_score"
      ]
    },
    {
      "cell_type": "code",
      "source": [
        "data_mnist = datasets.fetch_openml(\"mnist_784\")"
      ],
      "metadata": {
        "colab": {
          "base_uri": "https://localhost:8080/"
        },
        "id": "g1bLCBHKrZ_W",
        "outputId": "4b7379ef-1a7d-431d-8ee0-d5a2190c5330"
      },
      "execution_count": 3,
      "outputs": [
        {
          "output_type": "stream",
          "name": "stderr",
          "text": [
            "/usr/local/lib/python3.10/dist-packages/sklearn/datasets/_openml.py:968: FutureWarning: The default value of `parser` will change from `'liac-arff'` to `'auto'` in 1.4. You can set `parser='auto'` to silence this warning. Therefore, an `ImportError` will be raised from 1.4 if the dataset is dense and pandas is not installed. Note that the pandas parser may return different data types. See the Notes Section in fetch_openml's API doc for details.\n",
            "  warn(\n"
          ]
        }
      ]
    },
    {
      "cell_type": "markdown",
      "source": [
        "### Langkah 2 - Eksplorasi Dataset"
      ],
      "metadata": {
        "id": "Nu2OSWHOtcyR"
      }
    },
    {
      "cell_type": "code",
      "source": [
        "# Melihat dimensi data\n",
        "print(\"Jumlah sampel MNIST:\", data_mnist.data.shape[0])  # Jumlah sampel\n",
        "print(\"Dimensi setiap sampel MNIST:\", data_mnist.data.shape[1])  # Dimensi setiap sampel\n",
        "print(\"Jumlah kelas MNIST:\", len(set(data_mnist.target)))  # Jumlah kelas"
      ],
      "metadata": {
        "colab": {
          "base_uri": "https://localhost:8080/"
        },
        "id": "4bhAiFFksFrJ",
        "outputId": "b35fd4f0-181d-481e-c5ac-3946c0719f4c"
      },
      "execution_count": 7,
      "outputs": [
        {
          "output_type": "stream",
          "name": "stdout",
          "text": [
            "Jumlah sampel MNIST: 70000\n",
            "Dimensi setiap sampel MNIST: 784\n",
            "Jumlah kelas MNIST: 10\n"
          ]
        }
      ]
    },
    {
      "cell_type": "code",
      "source": [
        "# mengambil data dan label\n",
        "X = data_mnist.data.astype('float32')\n",
        "y = data_mnist.target.astype('int')"
      ],
      "metadata": {
        "id": "NPrlI2Fps8Sw"
      },
      "execution_count": 8,
      "outputs": []
    },
    {
      "cell_type": "code",
      "source": [
        "X.shape"
      ],
      "metadata": {
        "colab": {
          "base_uri": "https://localhost:8080/"
        },
        "id": "jg_RTjZCtoOW",
        "outputId": "d7ee9945-e4a5-4f70-c646-6adc6c28f51d"
      },
      "execution_count": 9,
      "outputs": [
        {
          "output_type": "execute_result",
          "data": {
            "text/plain": [
              "(70000, 784)"
            ]
          },
          "metadata": {},
          "execution_count": 9
        }
      ]
    },
    {
      "cell_type": "code",
      "source": [
        "# scaling data menggunakan MinMaxScaler\n",
        "scaler = MinMaxScaler()\n",
        "X_scalling = scaler.fit_transform(X)"
      ],
      "metadata": {
        "id": "Wwq940Qatpzz"
      },
      "execution_count": 14,
      "outputs": []
    },
    {
      "cell_type": "code",
      "source": [
        "print(X_scalling[:5])"
      ],
      "metadata": {
        "colab": {
          "base_uri": "https://localhost:8080/"
        },
        "id": "zOXrD1FruERz",
        "outputId": "b623e0ac-e46f-40d7-aa97-aca2301016c6"
      },
      "execution_count": 15,
      "outputs": [
        {
          "output_type": "stream",
          "name": "stdout",
          "text": [
            "[[0. 0. 0. ... 0. 0. 0.]\n",
            " [0. 0. 0. ... 0. 0. 0.]\n",
            " [0. 0. 0. ... 0. 0. 0.]\n",
            " [0. 0. 0. ... 0. 0. 0.]\n",
            " [0. 0. 0. ... 0. 0. 0.]]\n"
          ]
        }
      ]
    },
    {
      "cell_type": "markdown",
      "source": [
        "### Langkah 3 - Ekstraksi Fitur dan Split Data"
      ],
      "metadata": {
        "id": "IcyZ2OS8uV0B"
      }
    },
    {
      "cell_type": "code",
      "source": [
        "pca = PCA(n_components=200)\n",
        "X_pca = pca.fit_transform(X_scalling)"
      ],
      "metadata": {
        "id": "Lq9WghefuNyz"
      },
      "execution_count": 16,
      "outputs": []
    },
    {
      "cell_type": "code",
      "source": [
        "# Split dataset menjadi data pelatihan dan data pengujian\n",
        "X_train, X_test, y_train, y_test = train_test_split(X_pca, y, test_size = 0.2, random_state = 42)"
      ],
      "metadata": {
        "id": "z31DQ2D6vSLd"
      },
      "execution_count": 17,
      "outputs": []
    },
    {
      "cell_type": "markdown",
      "source": [
        "### Langkah 4 - Membangun Model ANN"
      ],
      "metadata": {
        "id": "TzCKD7Nbv3d3"
      }
    },
    {
      "cell_type": "code",
      "source": [
        "# Membuat model ANN\n",
        "model = Sequential()\n",
        "\n",
        "# Tambahkan lapisan input\n",
        "model.add(Dense(units=128, activation='relu', input_dim=200))  # 128 unit pada lapisan tersembunyi pertama\n",
        "\n",
        "# Tambahkan lapisan tersembunyi pertama\n",
        "model.add(Dense(units=64, activation='relu'))  # 64 unit pada lapisan tersembunyi kedua\n",
        "\n",
        "# Tambahkan lapisan tersembunyi kedua\n",
        "model.add(Dense(units=32, activation='relu'))  # 32 unit pada lapisan tersembunyi ketiga\n",
        "\n",
        "# Tambahkan lapisan output\n",
        "model.add(Dense(units=10, activation='softmax'))  # 10 unit pada lapisan output untuk klasifikasi 10 kelas\n",
        "\n",
        "model.summary()"
      ],
      "metadata": {
        "colab": {
          "base_uri": "https://localhost:8080/"
        },
        "id": "iy1HCZHdvyWF",
        "outputId": "57510df7-fc6f-413d-e35f-7aec2464a662"
      },
      "execution_count": 19,
      "outputs": [
        {
          "output_type": "stream",
          "name": "stdout",
          "text": [
            "Model: \"sequential_1\"\n",
            "_________________________________________________________________\n",
            " Layer (type)                Output Shape              Param #   \n",
            "=================================================================\n",
            " dense_4 (Dense)             (None, 128)               25728     \n",
            "                                                                 \n",
            " dense_5 (Dense)             (None, 64)                8256      \n",
            "                                                                 \n",
            " dense_6 (Dense)             (None, 32)                2080      \n",
            "                                                                 \n",
            " dense_7 (Dense)             (None, 10)                330       \n",
            "                                                                 \n",
            "=================================================================\n",
            "Total params: 36394 (142.16 KB)\n",
            "Trainable params: 36394 (142.16 KB)\n",
            "Non-trainable params: 0 (0.00 Byte)\n",
            "_________________________________________________________________\n"
          ]
        }
      ]
    },
    {
      "cell_type": "markdown",
      "source": [
        "### Langkah 5 - Training Model"
      ],
      "metadata": {
        "id": "UI_a_PiSyq3N"
      }
    },
    {
      "cell_type": "code",
      "source": [
        "# Kompilasi model ANN\n",
        "model.compile(optimizer='adam', loss='sparse_categorical_crossentropy', metrics=['accuracy'])"
      ],
      "metadata": {
        "id": "T9dZ4ngqx07s"
      },
      "execution_count": 20,
      "outputs": []
    },
    {
      "cell_type": "code",
      "source": [
        "# Melatih model menggunakan data pelatihan\n",
        "model.fit(X_train, y_train, epochs=10, batch_size=32, validation_split=0.2)  # Contoh menggunakan 10 epoch dan ukuran batch 32\n",
        "\n",
        "# Evaluasi model menggunakan data pengujian\n",
        "loss, accuracy = model.evaluate(X_test, y_test)\n",
        "print(\"Loss:\", loss)\n",
        "print(\"Accuracy:\", accuracy)"
      ],
      "metadata": {
        "colab": {
          "base_uri": "https://localhost:8080/"
        },
        "id": "-_w5W0foycOa",
        "outputId": "ea81d5da-2792-44cc-e78e-fd7ff3ac3261"
      },
      "execution_count": 21,
      "outputs": [
        {
          "output_type": "stream",
          "name": "stdout",
          "text": [
            "Epoch 1/10\n",
            "1400/1400 [==============================] - 5s 3ms/step - loss: 0.2967 - accuracy: 0.9121 - val_loss: 0.1435 - val_accuracy: 0.9560\n",
            "Epoch 2/10\n",
            "1400/1400 [==============================] - 6s 4ms/step - loss: 0.1006 - accuracy: 0.9695 - val_loss: 0.1155 - val_accuracy: 0.9640\n",
            "Epoch 3/10\n",
            "1400/1400 [==============================] - 7s 5ms/step - loss: 0.0642 - accuracy: 0.9803 - val_loss: 0.1073 - val_accuracy: 0.9663\n",
            "Epoch 4/10\n",
            "1400/1400 [==============================] - 7s 5ms/step - loss: 0.0428 - accuracy: 0.9865 - val_loss: 0.1071 - val_accuracy: 0.9678\n",
            "Epoch 5/10\n",
            "1400/1400 [==============================] - 4s 3ms/step - loss: 0.0312 - accuracy: 0.9898 - val_loss: 0.1043 - val_accuracy: 0.9705\n",
            "Epoch 6/10\n",
            "1400/1400 [==============================] - 5s 3ms/step - loss: 0.0243 - accuracy: 0.9918 - val_loss: 0.1169 - val_accuracy: 0.9693\n",
            "Epoch 7/10\n",
            "1400/1400 [==============================] - 6s 4ms/step - loss: 0.0189 - accuracy: 0.9938 - val_loss: 0.1288 - val_accuracy: 0.9687\n",
            "Epoch 8/10\n",
            "1400/1400 [==============================] - 4s 3ms/step - loss: 0.0179 - accuracy: 0.9940 - val_loss: 0.1212 - val_accuracy: 0.9722\n",
            "Epoch 9/10\n",
            "1400/1400 [==============================] - 5s 4ms/step - loss: 0.0152 - accuracy: 0.9950 - val_loss: 0.1338 - val_accuracy: 0.9707\n",
            "Epoch 10/10\n",
            "1400/1400 [==============================] - 4s 3ms/step - loss: 0.0171 - accuracy: 0.9941 - val_loss: 0.1479 - val_accuracy: 0.9684\n",
            "438/438 [==============================] - 1s 2ms/step - loss: 0.1640 - accuracy: 0.9672\n",
            "Loss: 0.16401049494743347\n",
            "Accuracy: 0.9672142863273621\n"
          ]
        }
      ]
    },
    {
      "cell_type": "markdown",
      "source": [
        "### Langkah 6 - Evaluasi"
      ],
      "metadata": {
        "id": "ID6CXndIy2ik"
      }
    },
    {
      "cell_type": "code",
      "source": [
        "# Evaluasi model pada data pelatihan\n",
        "train_loss, train_accuracy = model.evaluate(X_train, y_train)\n",
        "print(\"Train Loss:\", train_loss)\n",
        "print(\"Train Accuracy:\", train_accuracy)"
      ],
      "metadata": {
        "colab": {
          "base_uri": "https://localhost:8080/"
        },
        "id": "BD4ULlXfynov",
        "outputId": "c15febac-24d1-4402-e7e3-55f9bb9e5c0b"
      },
      "execution_count": 22,
      "outputs": [
        {
          "output_type": "stream",
          "name": "stdout",
          "text": [
            "1750/1750 [==============================] - 6s 3ms/step - loss: 0.0382 - accuracy: 0.9907\n",
            "Train Loss: 0.03817214444279671\n",
            "Train Accuracy: 0.9906785488128662\n"
          ]
        }
      ]
    },
    {
      "cell_type": "code",
      "source": [
        "# Evaluasi model pada data pengujian\n",
        "test_loss, test_accuracy = model.evaluate(X_test, y_test)\n",
        "print(\"Test Loss:\", test_loss)\n",
        "print(\"Test Accuracy:\", test_accuracy)"
      ],
      "metadata": {
        "colab": {
          "base_uri": "https://localhost:8080/"
        },
        "id": "d07DAD5f27mO",
        "outputId": "98728e1a-2b31-45f3-db66-307035255fc1"
      },
      "execution_count": 23,
      "outputs": [
        {
          "output_type": "stream",
          "name": "stdout",
          "text": [
            "438/438 [==============================] - 3s 7ms/step - loss: 0.1640 - accuracy: 0.9672\n",
            "Test Loss: 0.16401049494743347\n",
            "Test Accuracy: 0.9672142863273621\n"
          ]
        }
      ]
    },
    {
      "cell_type": "code",
      "source": [
        "# Melakukan prediksi menggunakan model pada data pengujian\n",
        "predictions = model.predict(X_test)\n",
        "\n",
        "# Mengubah prediksi dari format one-hot encoded ke kelas\n",
        "predicted_classes = np.argmax(predictions, axis=1)\n",
        "\n",
        "# Menghitung confusion matrix\n",
        "confusion_mtx = confusion_matrix(y_test, predicted_classes)\n",
        "\n",
        "print(\"Confusion Matrix:\")\n",
        "print(confusion_mtx)"
      ],
      "metadata": {
        "colab": {
          "base_uri": "https://localhost:8080/"
        },
        "id": "Le6ivUgh3JfH",
        "outputId": "053328bb-bb74-420b-c371-ab544e74e093"
      },
      "execution_count": 25,
      "outputs": [
        {
          "output_type": "stream",
          "name": "stdout",
          "text": [
            "438/438 [==============================] - 2s 4ms/step\n",
            "Confusion Matrix:\n",
            "[[1319    0    6    0    2    0    6    1    5    4]\n",
            " [   0 1570    6    7    0    0    5    3    8    1]\n",
            " [   2    2 1329    8    5    5    6    6   15    2]\n",
            " [   1    0   18 1377    0   18    2    2   13    2]\n",
            " [   3    0    3    0 1261    1    3    6    2   16]\n",
            " [   3    1    0   10    0 1236    9    1   11    2]\n",
            " [   5    0    5    0    6    6 1371    0    3    0]\n",
            " [   4    6   19    8    8    3    0 1439    5   11]\n",
            " [   4    3    9   15    3   12    6    5 1297    3]\n",
            " [   8    1    2    6   27    8    0   17    9 1342]]\n"
          ]
        }
      ]
    }
  ]
}